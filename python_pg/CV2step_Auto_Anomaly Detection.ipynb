{
 "cells": [
  {
   "cell_type": "code",
   "execution_count": null,
   "metadata": {},
   "outputs": [],
   "source": [
    "import requests\n",
    "import json\n",
    "import os\n",
    "import pandas as pd\n",
    "from PIL import Image, ImageDraw\n",
    "from azure.storage.blob import BlockBlobService\n",
    "from dotenv import load_dotenv"
   ]
  },
  {
   "cell_type": "code",
   "execution_count": null,
   "metadata": {},
   "outputs": [],
   "source": [
    "# 環境変数セット\n",
    "load_dotenv('.env')\n",
    "CV_URL = os.getenv(\"CV_URL\")\n",
    "CV_URL_CLS = os.getenv(\"CV_URL_CLS\")\n",
    "CV_API_KEY = os.getenv(\"CV_API_KEY\")\n",
    "ACCOUNT_NAME = os.getenv(\"ACCOUNT_NAME\")\n",
    "ACCOUNT_KEY = os.getenv(\"ACCOUNT_KEY\")\n",
    "CONTAINER_NAME_INPUT = os.getenv(\"CONTAINER_NAME_INPUT\")\n",
    "CONTAINER_NAME_RESULTS = os.getenv(\"CONTAINER_NAME_RESULTS\")\n",
    "CONTAINER_NAME_CROP = os.getenv(\"CONTAINER_NAME_CROP\")"
   ]
  },
  {
   "cell_type": "code",
   "execution_count": null,
   "metadata": {},
   "outputs": [],
   "source": [
    "# Custom Vision Object Detection: 検知モデルの接続情報セット\n",
    "url=CV_URL\n",
    "headers={\n",
    "        'Prediction-Key':CV_API_KEY,\n",
    "        'content-type':'application/octet-stream'\n",
    "        }\n",
    "\n",
    "# Custom Vision Classification: 分類モデルの接続情報セット\n",
    "url_class=CV_URL_CLS\n",
    "headers_class={\n",
    "        'Prediction-Key':CV_API_KEY,\n",
    "        'content-type':'application/octet-stream'\n",
    "        }"
   ]
  },
  {
   "cell_type": "code",
   "execution_count": null,
   "metadata": {},
   "outputs": [],
   "source": [
    "# Blob Storage 接続情報\n",
    "# ストレージアカウント名\n",
    "accountname = ACCOUNT_NAME \n",
    "# アカウントキー\n",
    "accountkey = ACCOUNT_KEY\n",
    "# コンテナ名\n",
    "container_name_input = CONTAINER_NAME_INPUT\n",
    "container_name_results = CONTAINER_NAME_RESULTS\n",
    "container_name_crop = CONTAINER_NAME_CROP\n",
    "# Blob Storage 操作オブジェクト\n",
    "blob_service_client = BlockBlobService(account_name=accountname, account_key=accountkey)\n",
    "# 分析画像ファイル取得\n",
    "img_file_name = \"Fruits_all0035.jpg\"\n",
    "img_in_path = os.path.expanduser(\"~/input\")\n",
    "if not os.path.exists(img_in_path):\n",
    "            os.makedirs(os.path.expanduser(\"~/input\"))\n",
    "img_file_path = os.path.join(img_in_path, img_file_name)\n",
    "blob_service_client.get_blob_to_path(container_name_input, img_file_name, img_file_path)\n"
   ]
  },
  {
   "cell_type": "code",
   "execution_count": null,
   "metadata": {},
   "outputs": [],
   "source": [
    "# 分析結果出力先\n",
    "img_out_path = os.path.expanduser(\"~/results\")\n",
    "if not os.path.exists(img_out_path):\n",
    "            os.makedirs(os.path.expanduser(\"~/results\"))\n",
    "\n",
    "# 分析結果書き戻し画像出力先\n",
    "out_draw_fname = os.path.splitext(os.path.basename(img_file_path))[0] + '_result.jpg'\n",
    "out_draw_path = os.path.join(img_out_path, out_draw_fname)\n",
    "\n",
    "# 解析対象の画像セット\n",
    "img = Image.open(img_file_path)\n",
    "draw = ImageDraw.Draw(img)\n",
    "\n",
    "# 結果判定一覧\n",
    "df = pd.DataFrame(columns = [\"file_name\", \"判定\", \"正常確率\", \"異常確率\"])\n",
    "result_list_fname = os.path.splitext(os.path.basename(img_file_path))[0] + '_result_list.csv'\n",
    "result_list_path = os.path.join(img_out_path, result_list_fname)\n",
    "print(result_list_path)"
   ]
  },
  {
   "cell_type": "code",
   "execution_count": null,
   "metadata": {},
   "outputs": [],
   "source": [
    "# Custom Vision Object Detection: 検知モデルの呼び出し\n",
    "response = requests.post(url, data=open(img_file_path,\"rb\"), headers=headers)\n",
    "print(response.status_code)\n",
    "print(response.elapsed)\n",
    "result = response.json()\n",
    "\n",
    "# 調整項目\n",
    "threshold = 0.9\n",
    "margin = 0.1"
   ]
  },
  {
   "cell_type": "code",
   "execution_count": null,
   "metadata": {},
   "outputs": [],
   "source": [
    "for i, detection_target in enumerate(result[\"predictions\"]): \n",
    "\n",
    "    if detection_target['probability'] > threshold: # 指定確率以上の画像のみ出力対象とする\n",
    "        # 座標情報取得\n",
    "        y=int(detection_target['boundingBox']['top']*img.height)\n",
    "        x=int(detection_target['boundingBox']['left']*img.width)\n",
    "        h=int(detection_target['boundingBox']['height']*img.height)\n",
    "        w=int(detection_target['boundingBox']['width']*img.width)\n",
    "\n",
    "        left = (x + int(margin*w/2))\n",
    "        top = (y + int(margin*h/2))\n",
    "        right = (x+w - int(margin*w/2))\n",
    "        bottom = (y+h - int(margin*h/2))\n",
    "\n",
    "        # 切取画像ファイル名セット\n",
    "        tag_name = '_' + detection_target['tagName'] + '_'\n",
    "        out_fname = os.path.splitext(os.path.basename(img_file_path))[0] + tag_name + str(i) + '.jpg'\n",
    "        out_path = os.path.join(img_out_path, out_fname)\n",
    "\n",
    "        # 切取画像保存\n",
    "        #img.crop((x, y, x+w, y+h)).save(out_path, quality=95)\n",
    "        img.crop((left, top, right, bottom)).save(out_path, quality=95)\n",
    "        blob_service_client.create_blob_from_path(container_name_crop, out_fname, out_path)\n",
    "        \n",
    "        # 切取画像を分類モデルにかける\n",
    "        response_class = requests.post(url_class, data=open(out_path,\"rb\"), headers=headers_class)\n",
    "        print(\"*****\")\n",
    "        print(out_fname)\n",
    "        print(response_class.json())\n",
    "        result_class = response_class.json()\n",
    "\n",
    "        # 分類モデルの判定を記録\n",
    "        j = 0\n",
    "        for j, target_class in enumerate(result_class[\"predictions\"]):\n",
    "            if target_class['tagName'] == \"正常\":\n",
    "                normal_prob = target_class['probability']\n",
    "            elif target_class['tagName'] == \"異常\":\n",
    "                abnormal_prob = target_class['probability']\n",
    "\n",
    "        # 正常・異常枠を元画像に書き戻し\n",
    "        # 異常確率0.85以上の場合は赤枠\n",
    "        if abnormal_prob >= 0.85:\n",
    "            draw.rectangle((left, top, right, bottom),outline=(255,0,0),width=10)\n",
    "            judge = \"異常\"\n",
    "        # 0.5 < 異常確率 < 0.85の場合は黄枠\n",
    "        elif abnormal_prob > 0.5 and abnormal_prob < 0.85:\n",
    "            draw.rectangle((left, top, right, bottom),outline=(255,255,0),width=10)\n",
    "            judge = \"異常疑\"\n",
    "        # それ以外は白枠\n",
    "        else:\n",
    "            draw.rectangle((left, top, right, bottom),outline=(255,255,255),width=10)\n",
    "            judge = \"正常\"\n",
    "        \n",
    "        # 結果判定一覧に行追加\n",
    "        df.loc[i]=[out_fname, judge, normal_prob, abnormal_prob]\n",
    "        #print(df)"
   ]
  },
  {
   "cell_type": "code",
   "execution_count": null,
   "metadata": {},
   "outputs": [],
   "source": [
    "# 分析結果画像保存\n",
    "img.save(out_draw_path,quality=95)\n",
    "blob_service_client.create_blob_from_path(container_name_results, out_draw_fname, out_draw_path)\n",
    "\n",
    "# 結果判定一覧をCSVファイル出力\n",
    "df.to_csv(result_list_path, header=True, index=True)\n",
    "blob_service_client.create_blob_from_path(container_name_results, result_list_fname, result_list_path)"
   ]
  }
 ],
 "metadata": {
  "interpreter": {
   "hash": "e4b0c40a27041b44cf00024adfe7e0db7719c5ba456a329611daca4cb55b67af"
  },
  "kernelspec": {
   "display_name": "Python 3.9.12 64-bit",
   "language": "python",
   "name": "python3"
  },
  "language_info": {
   "codemirror_mode": {
    "name": "ipython",
    "version": 3
   },
   "file_extension": ".py",
   "mimetype": "text/x-python",
   "name": "python",
   "nbconvert_exporter": "python",
   "pygments_lexer": "ipython3",
   "version": "3.9.12"
  },
  "orig_nbformat": 4
 },
 "nbformat": 4,
 "nbformat_minor": 2
}
