{
 "cells": [
  {
   "cell_type": "code",
   "execution_count": 1,
   "metadata": {},
   "outputs": [],
   "source": [
    "import requests\n",
    "import json\n",
    "import os\n",
    "import pandas as pd\n",
    "from PIL import Image, ImageDraw\n",
    "from azure.storage.blob import BlockBlobService\n",
    "from dotenv import load_dotenv"
   ]
  },
  {
   "cell_type": "code",
   "execution_count": 2,
   "metadata": {},
   "outputs": [],
   "source": [
    "# 環境変数セット\n",
    "load_dotenv('.env')\n",
    "CV_URL = os.getenv(\"CV_URL\")\n",
    "CV_URL_CLS = os.getenv(\"CV_URL_CLS\")\n",
    "CV_API_KEY = os.getenv(\"CV_API_KEY\")\n",
    "ACCOUNT_NAME = os.getenv(\"ACCOUNT_NAME\")\n",
    "ACCOUNT_KEY = os.getenv(\"ACCOUNT_KEY\")\n",
    "CONTAINER_NAME_INPUT = os.getenv(\"CONTAINER_NAME_INPUT\")\n",
    "CONTAINER_NAME_RESULTS = os.getenv(\"CONTAINER_NAME_RESULTS\")\n",
    "CONTAINER_NAME_CROP = os.getenv(\"CONTAINER_NAME_CROP\")"
   ]
  },
  {
   "cell_type": "code",
   "execution_count": 3,
   "metadata": {},
   "outputs": [],
   "source": [
    "# Custom Vision Object Detection: 検知モデルの接続情報セット\n",
    "url=CV_URL\n",
    "headers={\n",
    "        'Prediction-Key':CV_API_KEY,\n",
    "        'content-type':'application/octet-stream'\n",
    "        }\n",
    "\n",
    "# Custom Vision Classification: 分類モデルの接続情報セット\n",
    "url_class=CV_URL_CLS\n",
    "headers_class={\n",
    "        'Prediction-Key':CV_API_KEY,\n",
    "        'content-type':'application/octet-stream'\n",
    "        }"
   ]
  },
  {
   "cell_type": "code",
   "execution_count": 4,
   "metadata": {},
   "outputs": [
    {
     "data": {
      "text/plain": [
       "<azure.storage.blob.models.Blob at 0x1d75361d430>"
      ]
     },
     "execution_count": 4,
     "metadata": {},
     "output_type": "execute_result"
    }
   ],
   "source": [
    "# Blob Storage 接続情報\n",
    "# ストレージアカウント名\n",
    "accountname = ACCOUNT_NAME \n",
    "# アカウントキー\n",
    "accountkey = ACCOUNT_KEY\n",
    "# コンテナ名\n",
    "container_name_input = CONTAINER_NAME_INPUT\n",
    "container_name_results = CONTAINER_NAME_RESULTS\n",
    "container_name_crop = CONTAINER_NAME_CROP\n",
    "# Blob Storage 操作オブジェクト\n",
    "blob_service_client = BlockBlobService(account_name=accountname, account_key=accountkey)\n",
    "# 分析画像ファイル取得\n",
    "img_file_name = \"Fruits_all0035.jpg\"\n",
    "img_in_path = os.path.expanduser(\"~/input\")\n",
    "if not os.path.exists(img_in_path):\n",
    "            os.makedirs(os.path.expanduser(\"~/input\"))\n",
    "img_file_path = os.path.join(img_in_path, img_file_name)\n",
    "blob_service_client.get_blob_to_path(container_name_input, img_file_name, img_file_path)\n"
   ]
  },
  {
   "cell_type": "code",
   "execution_count": 5,
   "metadata": {},
   "outputs": [
    {
     "name": "stdout",
     "output_type": "stream",
     "text": [
      "C:\\Users\\mimochiz.FAREAST/results\\06G2_003538_2_result_list.csv\n"
     ]
    }
   ],
   "source": [
    "# 分析結果出力先\n",
    "img_out_path = os.path.expanduser(\"~/results\")\n",
    "if not os.path.exists(img_out_path):\n",
    "            os.makedirs(os.path.expanduser(\"~/results\"))\n",
    "\n",
    "# 分析結果書き戻し画像出力先\n",
    "out_draw_fname = os.path.splitext(os.path.basename(img_file_path))[0] + '_result.jpg'\n",
    "out_draw_path = os.path.join(img_out_path, out_draw_fname)\n",
    "\n",
    "# 解析対象の画像セット\n",
    "img = Image.open(img_file_path)\n",
    "draw = ImageDraw.Draw(img)\n",
    "\n",
    "# 結果判定一覧\n",
    "df = pd.DataFrame(columns = [\"file_name\", \"判定\", \"正常確率\", \"異常確率\"])\n",
    "result_list_fname = os.path.splitext(os.path.basename(img_file_path))[0] + '_result_list.csv'\n",
    "result_list_path = os.path.join(img_out_path, result_list_fname)\n",
    "print(result_list_path)"
   ]
  },
  {
   "cell_type": "code",
   "execution_count": 6,
   "metadata": {},
   "outputs": [
    {
     "name": "stdout",
     "output_type": "stream",
     "text": [
      "200\n",
      "0:00:02.604701\n"
     ]
    }
   ],
   "source": [
    "# Custom Vision Object Detection: 検知モデルの呼び出し\n",
    "response = requests.post(url, data=open(img_file_path,\"rb\"), headers=headers)\n",
    "print(response.status_code)\n",
    "print(response.elapsed)\n",
    "result = response.json()\n",
    "\n",
    "# 調整項目\n",
    "threshold = 0.9\n",
    "margin = 0.1"
   ]
  },
  {
   "cell_type": "code",
   "execution_count": 7,
   "metadata": {},
   "outputs": [
    {
     "name": "stdout",
     "output_type": "stream",
     "text": [
      "*****\n",
      "06G2_003538_2_rail fastener_0.jpg\n",
      "{'id': 'b7828dcd-34ea-48cf-b642-52ff3afecaa8', 'project': '7ac6bf65-0ebb-4a49-b788-1bb0029ca5e4', 'iteration': 'f3bf6cc4-3b66-490f-940e-a3940600722c', 'created': '2022-06-10T07:04:47.270Z', 'predictions': [{'probability': 0.95096815, 'tagId': '1916c26a-45a2-4f9f-8ff4-06b19b7ad7cb', 'tagName': '異常'}, {'probability': 0.049031816, 'tagId': '21bb90b3-1a94-4fcb-b660-4ea5ff7b9dd6', 'tagName': '正常'}]}\n",
      "*****\n",
      "06G2_003538_2_rail fastener_1.jpg\n",
      "{'id': 'f48c6cc0-994d-4bca-93be-7523c7ddae76', 'project': '7ac6bf65-0ebb-4a49-b788-1bb0029ca5e4', 'iteration': 'f3bf6cc4-3b66-490f-940e-a3940600722c', 'created': '2022-06-10T07:04:48.539Z', 'predictions': [{'probability': 0.6224938, 'tagId': '1916c26a-45a2-4f9f-8ff4-06b19b7ad7cb', 'tagName': '異常'}, {'probability': 0.37750614, 'tagId': '21bb90b3-1a94-4fcb-b660-4ea5ff7b9dd6', 'tagName': '正常'}]}\n",
      "*****\n",
      "06G2_003538_2_rail fastener_2.jpg\n",
      "{'id': '860d3dfa-41fd-4739-a41c-ab38f335e9ee', 'project': '7ac6bf65-0ebb-4a49-b788-1bb0029ca5e4', 'iteration': 'f3bf6cc4-3b66-490f-940e-a3940600722c', 'created': '2022-06-10T07:04:49.891Z', 'predictions': [{'probability': 0.60000384, 'tagId': '21bb90b3-1a94-4fcb-b660-4ea5ff7b9dd6', 'tagName': '正常'}, {'probability': 0.39999616, 'tagId': '1916c26a-45a2-4f9f-8ff4-06b19b7ad7cb', 'tagName': '異常'}]}\n",
      "*****\n",
      "06G2_003538_2_rail fastener_3.jpg\n",
      "{'id': '8040317f-66d8-4e96-9578-aec97121166d', 'project': '7ac6bf65-0ebb-4a49-b788-1bb0029ca5e4', 'iteration': 'f3bf6cc4-3b66-490f-940e-a3940600722c', 'created': '2022-06-10T07:04:51.067Z', 'predictions': [{'probability': 0.58400863, 'tagId': '1916c26a-45a2-4f9f-8ff4-06b19b7ad7cb', 'tagName': '異常'}, {'probability': 0.41599134, 'tagId': '21bb90b3-1a94-4fcb-b660-4ea5ff7b9dd6', 'tagName': '正常'}]}\n",
      "*****\n",
      "06G2_003538_2_rail fastener_4.jpg\n",
      "{'id': '4f0ba2cc-3962-4cc6-a829-b3ee9570410b', 'project': '7ac6bf65-0ebb-4a49-b788-1bb0029ca5e4', 'iteration': 'f3bf6cc4-3b66-490f-940e-a3940600722c', 'created': '2022-06-10T07:04:51.424Z', 'predictions': [{'probability': 0.7563331, 'tagId': '1916c26a-45a2-4f9f-8ff4-06b19b7ad7cb', 'tagName': '異常'}, {'probability': 0.24366686, 'tagId': '21bb90b3-1a94-4fcb-b660-4ea5ff7b9dd6', 'tagName': '正常'}]}\n",
      "*****\n",
      "06G2_003538_2_rail fastener_5.jpg\n",
      "{'id': 'b555d6b9-4eea-4eb3-8975-13f6dbc27d0f', 'project': '7ac6bf65-0ebb-4a49-b788-1bb0029ca5e4', 'iteration': 'f3bf6cc4-3b66-490f-940e-a3940600722c', 'created': '2022-06-10T07:04:51.703Z', 'predictions': [{'probability': 0.7969253, 'tagId': '1916c26a-45a2-4f9f-8ff4-06b19b7ad7cb', 'tagName': '異常'}, {'probability': 0.20307471, 'tagId': '21bb90b3-1a94-4fcb-b660-4ea5ff7b9dd6', 'tagName': '正常'}]}\n",
      "*****\n",
      "06G2_003538_2_rail fastener_6.jpg\n",
      "{'id': '9f4e02af-4b5c-43ac-8413-2cabd09567a3', 'project': '7ac6bf65-0ebb-4a49-b788-1bb0029ca5e4', 'iteration': 'f3bf6cc4-3b66-490f-940e-a3940600722c', 'created': '2022-06-10T07:04:53.239Z', 'predictions': [{'probability': 0.639379, 'tagId': '21bb90b3-1a94-4fcb-b660-4ea5ff7b9dd6', 'tagName': '正常'}, {'probability': 0.360621, 'tagId': '1916c26a-45a2-4f9f-8ff4-06b19b7ad7cb', 'tagName': '異常'}]}\n",
      "*****\n",
      "06G2_003538_2_rail fastener_7.jpg\n",
      "{'id': '86a4562a-82f5-41d2-8be6-14d8154d1da7', 'project': '7ac6bf65-0ebb-4a49-b788-1bb0029ca5e4', 'iteration': 'f3bf6cc4-3b66-490f-940e-a3940600722c', 'created': '2022-06-10T07:04:54.551Z', 'predictions': [{'probability': 0.66119385, 'tagId': '21bb90b3-1a94-4fcb-b660-4ea5ff7b9dd6', 'tagName': '正常'}, {'probability': 0.33880615, 'tagId': '1916c26a-45a2-4f9f-8ff4-06b19b7ad7cb', 'tagName': '異常'}]}\n",
      "*****\n",
      "06G2_003538_2_rail fastener_8.jpg\n",
      "{'id': '3d809614-2da3-4313-a14b-d9154a7bb991', 'project': '7ac6bf65-0ebb-4a49-b788-1bb0029ca5e4', 'iteration': 'f3bf6cc4-3b66-490f-940e-a3940600722c', 'created': '2022-06-10T07:04:55.876Z', 'predictions': [{'probability': 0.7097436, 'tagId': '1916c26a-45a2-4f9f-8ff4-06b19b7ad7cb', 'tagName': '異常'}, {'probability': 0.2902564, 'tagId': '21bb90b3-1a94-4fcb-b660-4ea5ff7b9dd6', 'tagName': '正常'}]}\n",
      "*****\n",
      "06G2_003538_2_rail fastener_9.jpg\n",
      "{'id': '63203650-d1d5-494b-a467-132093d4d396', 'project': '7ac6bf65-0ebb-4a49-b788-1bb0029ca5e4', 'iteration': 'f3bf6cc4-3b66-490f-940e-a3940600722c', 'created': '2022-06-10T07:04:56.500Z', 'predictions': [{'probability': 0.5929073, 'tagId': '21bb90b3-1a94-4fcb-b660-4ea5ff7b9dd6', 'tagName': '正常'}, {'probability': 0.40709272, 'tagId': '1916c26a-45a2-4f9f-8ff4-06b19b7ad7cb', 'tagName': '異常'}]}\n",
      "*****\n",
      "06G2_003538_2_rail fastener_10.jpg\n",
      "{'id': '358210f0-b047-4b3e-be20-e6d22ea49b89', 'project': '7ac6bf65-0ebb-4a49-b788-1bb0029ca5e4', 'iteration': 'f3bf6cc4-3b66-490f-940e-a3940600722c', 'created': '2022-06-10T07:04:57.731Z', 'predictions': [{'probability': 0.58915013, 'tagId': '21bb90b3-1a94-4fcb-b660-4ea5ff7b9dd6', 'tagName': '正常'}, {'probability': 0.41084993, 'tagId': '1916c26a-45a2-4f9f-8ff4-06b19b7ad7cb', 'tagName': '異常'}]}\n",
      "*****\n",
      "06G2_003538_2_rail fastener_11.jpg\n",
      "{'id': '88e94507-dbbf-4832-8728-74d469720cde', 'project': '7ac6bf65-0ebb-4a49-b788-1bb0029ca5e4', 'iteration': 'f3bf6cc4-3b66-490f-940e-a3940600722c', 'created': '2022-06-10T07:04:58.126Z', 'predictions': [{'probability': 0.665072, 'tagId': '1916c26a-45a2-4f9f-8ff4-06b19b7ad7cb', 'tagName': '異常'}, {'probability': 0.33492798, 'tagId': '21bb90b3-1a94-4fcb-b660-4ea5ff7b9dd6', 'tagName': '正常'}]}\n",
      "*****\n",
      "06G2_003538_2_rail fastener_12.jpg\n",
      "{'id': '078cb233-b7a5-4a91-b745-98593168548d', 'project': '7ac6bf65-0ebb-4a49-b788-1bb0029ca5e4', 'iteration': 'f3bf6cc4-3b66-490f-940e-a3940600722c', 'created': '2022-06-10T07:04:59.595Z', 'predictions': [{'probability': 0.5272889, 'tagId': '1916c26a-45a2-4f9f-8ff4-06b19b7ad7cb', 'tagName': '異常'}, {'probability': 0.47271103, 'tagId': '21bb90b3-1a94-4fcb-b660-4ea5ff7b9dd6', 'tagName': '正常'}]}\n",
      "*****\n",
      "06G2_003538_2_rail fastener_13.jpg\n",
      "{'id': '0ef42a4a-69bd-4416-a26a-d4ef91b382f4', 'project': '7ac6bf65-0ebb-4a49-b788-1bb0029ca5e4', 'iteration': 'f3bf6cc4-3b66-490f-940e-a3940600722c', 'created': '2022-06-10T07:04:59.984Z', 'predictions': [{'probability': 0.60559565, 'tagId': '21bb90b3-1a94-4fcb-b660-4ea5ff7b9dd6', 'tagName': '正常'}, {'probability': 0.39440432, 'tagId': '1916c26a-45a2-4f9f-8ff4-06b19b7ad7cb', 'tagName': '異常'}]}\n",
      "*****\n",
      "06G2_003538_2_rail fastener_14.jpg\n",
      "{'id': 'f98b9ba4-718a-4788-9ee3-faec49c37643', 'project': '7ac6bf65-0ebb-4a49-b788-1bb0029ca5e4', 'iteration': 'f3bf6cc4-3b66-490f-940e-a3940600722c', 'created': '2022-06-10T07:05:00.370Z', 'predictions': [{'probability': 0.63844556, 'tagId': '1916c26a-45a2-4f9f-8ff4-06b19b7ad7cb', 'tagName': '異常'}, {'probability': 0.36155447, 'tagId': '21bb90b3-1a94-4fcb-b660-4ea5ff7b9dd6', 'tagName': '正常'}]}\n",
      "*****\n",
      "06G2_003538_2_rail fastener_15.jpg\n",
      "{'id': 'f4589cbc-1395-404b-9588-a0c53cd8a4f2', 'project': '7ac6bf65-0ebb-4a49-b788-1bb0029ca5e4', 'iteration': 'f3bf6cc4-3b66-490f-940e-a3940600722c', 'created': '2022-06-10T07:05:00.735Z', 'predictions': [{'probability': 0.6367681, 'tagId': '21bb90b3-1a94-4fcb-b660-4ea5ff7b9dd6', 'tagName': '正常'}, {'probability': 0.36323187, 'tagId': '1916c26a-45a2-4f9f-8ff4-06b19b7ad7cb', 'tagName': '異常'}]}\n"
     ]
    }
   ],
   "source": [
    "for i, detection_target in enumerate(result[\"predictions\"]): \n",
    "\n",
    "    if detection_target['probability'] > threshold: # 指定確率以上の画像のみ出力対象とする\n",
    "        # 座標情報取得\n",
    "        y=int(detection_target['boundingBox']['top']*img.height)\n",
    "        x=int(detection_target['boundingBox']['left']*img.width)\n",
    "        h=int(detection_target['boundingBox']['height']*img.height)\n",
    "        w=int(detection_target['boundingBox']['width']*img.width)\n",
    "\n",
    "        left = (x + int(margin*w/2))\n",
    "        top = (y + int(margin*h/2))\n",
    "        right = (x+w - int(margin*w/2))\n",
    "        bottom = (y+h - int(margin*h/2))\n",
    "\n",
    "        # 切取画像ファイル名セット\n",
    "        tag_name = '_' + detection_target['tagName'] + '_'\n",
    "        out_fname = os.path.splitext(os.path.basename(img_file_path))[0] + tag_name + str(i) + '.jpg'\n",
    "        out_path = os.path.join(img_out_path, out_fname)\n",
    "\n",
    "        # 切取画像保存\n",
    "        #img.crop((x, y, x+w, y+h)).save(out_path, quality=95)\n",
    "        img.crop((left, top, right, bottom)).save(out_path, quality=95)\n",
    "        blob_service_client.create_blob_from_path(container_name_crop, out_fname, out_path)\n",
    "        \n",
    "        # 切取画像を分類モデルにかける\n",
    "        response_class = requests.post(url_class, data=open(out_path,\"rb\"), headers=headers_class)\n",
    "        print(\"*****\")\n",
    "        print(out_fname)\n",
    "        print(response_class.json())\n",
    "        result_class = response_class.json()\n",
    "\n",
    "        # 分類モデルの判定を記録\n",
    "        j = 0\n",
    "        for j, target_class in enumerate(result_class[\"predictions\"]):\n",
    "            if target_class['tagName'] == \"正常\":\n",
    "                normal_prob = target_class['probability']\n",
    "            elif target_class['tagName'] == \"異常\":\n",
    "                abnormal_prob = target_class['probability']\n",
    "\n",
    "        # 正常・異常枠を元画像に書き戻し\n",
    "        # 異常確率0.85以上の場合は赤枠\n",
    "        if abnormal_prob >= 0.85:\n",
    "            draw.rectangle((left, top, right, bottom),outline=(255,0,0),width=10)\n",
    "            judge = \"異常\"\n",
    "        # 0.5 < 異常確率 < 0.85の場合は黄枠\n",
    "        elif abnormal_prob > 0.5 and abnormal_prob < 0.85:\n",
    "            draw.rectangle((left, top, right, bottom),outline=(255,255,0),width=10)\n",
    "            judge = \"異常疑\"\n",
    "        # それ以外は白枠\n",
    "        else:\n",
    "            draw.rectangle((left, top, right, bottom),outline=(255,255,255),width=10)\n",
    "            judge = \"正常\"\n",
    "        \n",
    "        # 結果判定一覧に行追加\n",
    "        df.loc[i]=[out_fname, judge, normal_prob, abnormal_prob]\n",
    "        #print(df)"
   ]
  },
  {
   "cell_type": "code",
   "execution_count": 8,
   "metadata": {},
   "outputs": [
    {
     "data": {
      "text/plain": [
       "<azure.storage.blob.models.ResourceProperties at 0x1d754aca340>"
      ]
     },
     "execution_count": 8,
     "metadata": {},
     "output_type": "execute_result"
    }
   ],
   "source": [
    "# 分析結果画像保存\n",
    "img.save(out_draw_path,quality=95)\n",
    "blob_service_client.create_blob_from_path(container_name_results, out_draw_fname, out_draw_path)\n",
    "\n",
    "# 結果判定一覧をCSVファイル出力\n",
    "df.to_csv(result_list_path, header=True, index=True)\n",
    "blob_service_client.create_blob_from_path(container_name_results, result_list_fname, result_list_path)"
   ]
  }
 ],
 "metadata": {
  "interpreter": {
   "hash": "e4b0c40a27041b44cf00024adfe7e0db7719c5ba456a329611daca4cb55b67af"
  },
  "kernelspec": {
   "display_name": "Python 3.9.12 64-bit",
   "language": "python",
   "name": "python3"
  },
  "language_info": {
   "codemirror_mode": {
    "name": "ipython",
    "version": 3
   },
   "file_extension": ".py",
   "mimetype": "text/x-python",
   "name": "python",
   "nbconvert_exporter": "python",
   "pygments_lexer": "ipython3",
   "version": "3.9.12"
  },
  "orig_nbformat": 4
 },
 "nbformat": 4,
 "nbformat_minor": 2
}
